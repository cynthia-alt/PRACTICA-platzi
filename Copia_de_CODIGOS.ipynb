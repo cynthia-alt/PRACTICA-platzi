{
  "nbformat": 4,
  "nbformat_minor": 0,
  "metadata": {
    "colab": {
      "provenance": [],
      "toc_visible": true,
      "authorship_tag": "ABX9TyPghOOt9WNmuKx7T6YnRyQz",
      "include_colab_link": true
    },
    "kernelspec": {
      "name": "python3",
      "display_name": "Python 3"
    },
    "language_info": {
      "name": "python"
    }
  },
  "cells": [
    {
      "cell_type": "markdown",
      "metadata": {
        "id": "view-in-github",
        "colab_type": "text"
      },
      "source": [
        "<a href=\"https://colab.research.google.com/github/cynthia-alt/PRACTICA-platzi/blob/main/Copia_de_CODIGOS.ipynb\" target=\"_parent\"><img src=\"https://colab.research.google.com/assets/colab-badge.svg\" alt=\"Open In Colab\"/></a>"
      ]
    },
    {
      "cell_type": "code",
      "source": [
        "import numpy as np\n",
        "\n",
        "a=np.array([0,1,0,1,0])\n",
        "\n",
        "b=np.array([1,0,1,0,1])\n",
        "\n",
        "print (a*b)"
      ],
      "metadata": {
        "colab": {
          "base_uri": "https://localhost:8080/"
        },
        "id": "m5XtB7oIH97L",
        "outputId": "1b3f059a-05db-409a-cec4-3026ef855588"
      },
      "execution_count": null,
      "outputs": [
        {
          "output_type": "stream",
          "name": "stdout",
          "text": [
            "[0 0 0 0 0]\n"
          ]
        }
      ]
    },
    {
      "cell_type": "markdown",
      "source": [
        "seccion 1 # Nueva sección"
      ],
      "metadata": {
        "id": "elbyZTsXYF9G"
      }
    },
    {
      "cell_type": "code",
      "source": [
        "import numpy as np\n",
        "\n",
        "a=np.array([0,1])\n",
        "\n",
        "b=np.array([1,0])\n",
        "\n",
        "np.dot(a,b)"
      ],
      "metadata": {
        "colab": {
          "base_uri": "https://localhost:8080/"
        },
        "id": "N7ohZwsTIQev",
        "outputId": "9b9e2970-050c-4d2e-cc5a-7db88b9bcf9d"
      },
      "execution_count": null,
      "outputs": [
        {
          "output_type": "execute_result",
          "data": {
            "text/plain": [
              "np.int64(0)"
            ]
          },
          "metadata": {},
          "execution_count": 2
        }
      ]
    },
    {
      "cell_type": "code",
      "source": [
        "a=np.array([1,1,1,1,1])\n",
        "print (a+10)\n"
      ],
      "metadata": {
        "colab": {
          "base_uri": "https://localhost:8080/"
        },
        "id": "Hb9_8-xlLNQm",
        "outputId": "fe63366e-b9af-4bcc-d2da-efc83ea4350d"
      },
      "execution_count": null,
      "outputs": [
        {
          "output_type": "stream",
          "name": "stdout",
          "text": [
            "[11 11 11 11 11]\n"
          ]
        }
      ]
    },
    {
      "cell_type": "code",
      "source": [
        "import numpy as np\n",
        "\n",
        "def Add(x,y):\n",
        "\n",
        "z=y+x\n",
        "\n",
        "return(y)"
      ],
      "metadata": {
        "colab": {
          "base_uri": "https://localhost:8080/",
          "height": 128
        },
        "id": "Aqd10uqrkQ6K",
        "outputId": "1d7335e1-0928-42e7-8937-15959f6ff18e"
      },
      "execution_count": null,
      "outputs": [
        {
          "output_type": "error",
          "ename": "IndentationError",
          "evalue": "expected an indented block after function definition on line 1 (<ipython-input-6-631986449>, line 3)",
          "traceback": [
            "\u001b[0;36m  File \u001b[0;32m\"<ipython-input-6-631986449>\"\u001b[0;36m, line \u001b[0;32m3\u001b[0m\n\u001b[0;31m    z=y+x\u001b[0m\n\u001b[0m    ^\u001b[0m\n\u001b[0;31mIndentationError\u001b[0m\u001b[0;31m:\u001b[0m expected an indented block after function definition on line 1\n"
          ]
        }
      ]
    },
    {
      "cell_type": "markdown",
      "source": [
        "CLASE 1 PLATZI: txt, jason y numpy"
      ],
      "metadata": {
        "id": "U5-jLPm1YZ1E"
      }
    },
    {
      "cell_type": "code",
      "source": [
        "# TXT manipulacion de archivos texto:\n",
        "\n",
        "'''with open('caperucita.txt', 'r', encoding='utf-8') as file:\n",
        "    for linea in file:\n",
        "        print(linea.strip())'''\n",
        "\n",
        "#Leer todas las lÃ­neas en una lista\n",
        "\"\"\"with open('caperucita.txt', 'r') as file:\n",
        "    lines = file.readlines()\n",
        "    print(lines)\"\"\"\n",
        "\n",
        "#Añadir texto\n",
        "'''with open('caperucita.txt', 'a') as file:\n",
        "    file.write(\"\\n\\nBy:ChatGPT\")'''\n",
        "\n",
        "#Sobreescribir el texto\n",
        "'''with open('caperucita.txt', 'w') as file:\n",
        "    file.write(\"\\n\\nBy:ChatGPT\")'''"
      ],
      "metadata": {
        "colab": {
          "base_uri": "https://localhost:8080/",
          "height": 54
        },
        "id": "kbYirceBYl5-",
        "outputId": "9ad731ce-7cc7-4621-afa1-7100c3fade93"
      },
      "execution_count": null,
      "outputs": [
        {
          "output_type": "execute_result",
          "data": {
            "text/plain": [
              "'with open(\\'caperucita.txt\\', \\'w\\') as file:\\n    file.write(\"\\n\\nBy:ChatGPT\")'"
            ],
            "application/vnd.google.colaboratory.intrinsic+json": {
              "type": "string"
            }
          },
          "metadata": {},
          "execution_count": 1
        }
      ]
    }
  ]
}